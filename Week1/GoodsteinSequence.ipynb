{
 "cells": [
  {
   "cell_type": "code",
   "execution_count": 49,
   "id": "6dc347d4",
   "metadata": {},
   "outputs": [],
   "source": [
    "import math as m"
   ]
  },
  {
   "cell_type": "code",
   "execution_count": 50,
   "id": "793b2aaf",
   "metadata": {},
   "outputs": [],
   "source": [
    "def hereditary(number,base):\n",
    "    a = []\n",
    "    b = []\n",
    "    c = 0\n",
    "    while number>0:\n",
    "        a.append(int(m.log(number,base)))\n",
    "        b.append((number//base**int(m.log(number,base))))\n",
    "        number += - (base**int(m.log(number,base)))*(number//base**int(m.log(number,base)))\n",
    "    for i in a:\n",
    "        if i>=base:\n",
    "            c += ((base+1)**hereditary(i,base))*b[a.index(i)] \n",
    "        else:\n",
    "            c += ((base+1)**i)*b[a.index(i)]\n",
    "    return c"
   ]
  },
  {
   "cell_type": "code",
   "execution_count": 63,
   "id": "6a8e6904",
   "metadata": {},
   "outputs": [],
   "source": [
    "def goodstein(number,term):\n",
    "    if term==1:\n",
    "        print(number)\n",
    "    else:\n",
    "        a = number\n",
    "        for i in range(2,term+1):\n",
    "            a = hereditary(a,i) - 1\n",
    "    return a"
   ]
  },
  {
   "cell_type": "code",
   "execution_count": 64,
   "id": "98585e46",
   "metadata": {},
   "outputs": [
    {
     "name": "stdout",
     "output_type": "stream",
     "text": [
      "Initial number 4\n",
      "Term you want to be printed 2\n",
      "The result is 26\n"
     ]
    }
   ],
   "source": [
    "number = int(input('Initial number ',))\n",
    "term = int(input('Term you want to be printed ',))\n",
    "a = goodstein(number,term)\n",
    "print('The result is ' + str(a))"
   ]
  },
  {
   "cell_type": "code",
   "execution_count": null,
   "id": "6096ad50",
   "metadata": {},
   "outputs": [],
   "source": []
  }
 ],
 "metadata": {
  "kernelspec": {
   "display_name": "Python 3",
   "language": "python",
   "name": "python3"
  },
  "language_info": {
   "codemirror_mode": {
    "name": "ipython",
    "version": 3
   },
   "file_extension": ".py",
   "mimetype": "text/x-python",
   "name": "python",
   "nbconvert_exporter": "python",
   "pygments_lexer": "ipython3",
   "version": "3.8.8"
  }
 },
 "nbformat": 4,
 "nbformat_minor": 5
}
